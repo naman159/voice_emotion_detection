{
 "cells": [
  {
   "cell_type": "code",
   "execution_count": 25,
   "id": "architectural-investigation",
   "metadata": {},
   "outputs": [
    {
     "name": "stdout",
     "output_type": "stream",
     "text": [
      "Loaded 196 raw labelled audio data samples.\n",
      "Extracting features and labels for 196 audio windows...\n",
      "196 windows found\n",
      "0 bad windows found, with 0 windows with only zeros\n",
      "Finished feature extraction over 196 windows\n",
      "Unique labels found: {0.0}\n"
     ]
    }
   ],
   "source": [
    "import os\n",
    "import sys\n",
    "import numpy as np\n",
    "from sklearn.tree import DecisionTreeClassifier\n",
    "from sklearn.ensemble import RandomForestClassifier\n",
    "from features import FeatureExtractor\n",
    "from sklearn.model_selection import KFold\n",
    "from sklearn.metrics import confusion_matrix\n",
    "import pickle\n",
    "\n",
    "\n",
    "# %%---------------------------------------------------------------------------\n",
    "#\n",
    "#\t\t                 Load Data From Disk\n",
    "#\n",
    "# -----------------------------------------------------------------------------\n",
    "\n",
    "data_dir = 'testing_data' # directory where the data files are stored\n",
    "\n",
    "# the filenames should be in the form 'speaker-data-subject-1.csv', e.g. 'speaker-data-Erik-1.csv'.\n",
    "\n",
    "class_names = [] # the set of classes, i.e. speakers\n",
    "\n",
    "data = np.zeros((0,8002)) #8002 = 1 (timestamp) + 8000 (for 8kHz audio data) + 1 (label)\n",
    "\n",
    "# for filename in os.listdir(data_dir):\n",
    "# \tif filename.endswith(\".csv\") and filename.startswith(\"speaker-data\"):\n",
    "# \t\tfilename_components = filename.split(\"-\") # split by the '-' character\n",
    "# \t\tspeaker = filename_components[2]\n",
    "# \t\tprint(\"Loading data for {}.\".format(speaker))\n",
    "# \t\tif speaker not in class_names:\n",
    "# \t\t\tclass_names.append(speaker)\n",
    "# \t\tspeaker_label = class_names.index(speaker)\n",
    "# \t\tsys.stdout.flush()\n",
    "# \t\tdata_file = os.path.join(data_dir, filename)\n",
    "# \t\tdata_for_current_speaker = np.genfromtxt(data_file, delimiter=',')\n",
    "# \t\tprint(\"Loaded {} raw labelled audio data samples.\".format(len(data_for_current_speaker)))\n",
    "# \t\tsys.stdout.flush()\n",
    "# \t\tdata = np.append(data, data_for_current_speaker, axis=0)\n",
    "        \n",
    "        \n",
    "        \n",
    "data_file = os.path.join(data_dir, 'speaker-data-Silent-0.csv')\n",
    "data = np.genfromtxt(data_file, delimiter=',')\n",
    "print(\"Loaded {} raw labelled audio data samples.\".format(len(data)))\n",
    "sys.stdout.flush()\n",
    "\n",
    "\n",
    "\n",
    "\n",
    "\n",
    "# print(\"Found data for {} speakers : {}\".format(len(class_names), \", \".join(class_names)))\n",
    "# %%---------------------------------------------------------------------------\n",
    "#\n",
    "#\t\t                Extract Features & Labels\n",
    "#\n",
    "# -----------------------------------------------------------------------------\n",
    "\n",
    "# Update this depending on how you compute your features\n",
    "n_features = 985\n",
    "\n",
    "print(\"Extracting features and labels for {} audio windows...\".format(data.shape[0]))\n",
    "sys.stdout.flush()\n",
    "\n",
    "X = np.zeros((0,n_features))\n",
    "y = np.zeros(0,)\n",
    "\n",
    "# change debug to True to show print statements we've included:\n",
    "feature_extractor = FeatureExtractor(debug=False) \n",
    "\n",
    "nr_total_windows = 0\n",
    "nr_bad_windows = 0\n",
    "nr_windows_with_zeros = 0\n",
    "\n",
    "for i,window_with_timestamp_and_label in enumerate(data):\n",
    "    window = window_with_timestamp_and_label[1:-1]\n",
    "    label = data[i,-1]\n",
    "    nr_total_windows += 1\n",
    "    try:\n",
    "        x = feature_extractor.extract_features(window)\n",
    "        if (len(x) != X.shape[1]):\n",
    "            print(\"Received feature vector of length {}. Expected feature vector of length {}.\".format(len(x), X.shape[1]))\n",
    "        X = np.append(X, np.reshape(x, (1,-1)), axis=0)\n",
    "        y = np.append(y, label)\n",
    "    except KeyError as e:\n",
    "        print(e)\n",
    "        nr_bad_windows += 1\n",
    "        if np.all((window == 0)):\n",
    "            nr_windows_with_zeros += 1\n",
    "print(\"{} windows found\".format(nr_total_windows))\n",
    "print(\"{} bad windows found, with {} windows with only zeros\".format(nr_bad_windows, nr_windows_with_zeros))\n",
    "    \n",
    "print(\"Finished feature extraction over {} windows\".format(len(X)))\n",
    "print(\"Unique labels found: {}\".format(set(y)))\n",
    "sys.stdout.flush()"
   ]
  },
  {
   "cell_type": "code",
   "execution_count": 26,
   "id": "verbal-tractor",
   "metadata": {},
   "outputs": [
    {
     "name": "stdout",
     "output_type": "stream",
     "text": [
      "196\n"
     ]
    }
   ],
   "source": [
    "loaded_model = pickle.load(open('training_output/classifier.pickle', 'rb'))\n",
    "result = loaded_model.score(X, y)\n",
    "# print(result)\n",
    "prediction = loaded_model.predict(X)\n",
    "print(len(prediction))"
   ]
  },
  {
   "cell_type": "code",
   "execution_count": 27,
   "id": "reserved-ceiling",
   "metadata": {},
   "outputs": [
    {
     "name": "stdout",
     "output_type": "stream",
     "text": [
      "Counter({0.0: 184, 2.0: 12})\n"
     ]
    }
   ],
   "source": [
    "from collections import Counter\n",
    "print(Counter(prediction))"
   ]
  },
  {
   "cell_type": "code",
   "execution_count": null,
   "id": "angry-holder",
   "metadata": {},
   "outputs": [],
   "source": []
  }
 ],
 "metadata": {
  "kernelspec": {
   "display_name": "Python 3",
   "language": "python",
   "name": "python3"
  },
  "language_info": {
   "codemirror_mode": {
    "name": "ipython",
    "version": 3
   },
   "file_extension": ".py",
   "mimetype": "text/x-python",
   "name": "python",
   "nbconvert_exporter": "python",
   "pygments_lexer": "ipython3",
   "version": "3.8.5"
  }
 },
 "nbformat": 4,
 "nbformat_minor": 5
}
